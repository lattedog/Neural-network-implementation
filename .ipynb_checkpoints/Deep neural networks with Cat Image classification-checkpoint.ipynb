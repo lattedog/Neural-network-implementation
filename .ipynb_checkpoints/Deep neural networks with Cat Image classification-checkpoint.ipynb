{
 "cells": [
  {
   "cell_type": "markdown",
   "metadata": {},
   "source": [
    "# This is to realize multi-layer deep neural networks myself, using the cat image data. "
   ]
  },
  {
   "cell_type": "markdown",
   "metadata": {},
   "source": [
    "-  Date: 9/14/2019"
   ]
  },
  {
   "cell_type": "code",
   "execution_count": 1,
   "metadata": {},
   "outputs": [],
   "source": [
    "import numpy as np\n",
    "import pandas as pd\n",
    "import matplotlib.pyplot as plt\n",
    "\n",
    "from sklearn import preprocessing\n",
    "\n",
    "import h5py\n",
    "import os\n",
    "import sys\n",
    "sys.path.append(\"/Users/yuxing/Documents/ML_code/\")\n",
    "\n",
    "# some useful functions\n",
    "import my_lib"
   ]
  },
  {
   "cell_type": "code",
   "execution_count": 2,
   "metadata": {},
   "outputs": [
    {
     "name": "stdout",
     "output_type": "stream",
     "text": [
      "Current working directory is:/Users/yuxing/Documents/ML_code/Neural Nets/Cat_Image\n"
     ]
    }
   ],
   "source": [
    "# set up working directory\n",
    "\n",
    "data_dir0 = \"/Users/yuxing/Documents/ML_data/\"\n",
    "code_dir0 = \"/Users/yuxing/Documents/ML_code/Neural Nets/\"\n",
    "\n",
    "project_name = \"Cat_Image/\"\n",
    "\n",
    "data_dir = data_dir0 + project_name\n",
    "code_dir = code_dir0 + project_name\n",
    "\n",
    "output_dir = code_dir\n",
    "\n",
    "if os.getcwd() != code_dir:\n",
    "    os.chdir(code_dir)\n",
    "\n",
    "print(\"Current working directory is:\" + os.getcwd())"
   ]
  },
  {
   "cell_type": "code",
   "execution_count": 3,
   "metadata": {},
   "outputs": [
    {
     "data": {
      "text/plain": [
       "<module 'my_lib' from '/Users/yuxing/Documents/ML_code/my_lib.py'>"
      ]
     },
     "execution_count": 3,
     "metadata": {},
     "output_type": "execute_result"
    }
   ],
   "source": [
    "import importlib\n",
    "importlib.reload(my_lib)"
   ]
  },
  {
   "cell_type": "markdown",
   "metadata": {},
   "source": [
    "# 1. load in data"
   ]
  },
  {
   "cell_type": "code",
   "execution_count": 4,
   "metadata": {},
   "outputs": [],
   "source": [
    "def load_data(data_dir):\n",
    "    train_dataset = h5py.File(data_dir + 'train_catvnoncat.h5', \"r\")\n",
    "    train_set_x_orig = np.array(train_dataset[\"train_set_x\"][:]) # your train set features\n",
    "    train_set_y_orig = np.array(train_dataset[\"train_set_y\"][:]) # your train set labels\n",
    "\n",
    "    test_dataset = h5py.File(data_dir + 'test_catvnoncat.h5', \"r\")\n",
    "    test_set_x_orig = np.array(test_dataset[\"test_set_x\"][:]) # your test set features\n",
    "    test_set_y_orig = np.array(test_dataset[\"test_set_y\"][:]) # your test set labels\n",
    "\n",
    "    classes = np.array(test_dataset[\"list_classes\"][:]) # the list of classes\n",
    "    \n",
    "    train_set_y_orig = train_set_y_orig.reshape((1, train_set_y_orig.shape[0]))\n",
    "    test_set_y_orig = test_set_y_orig.reshape((1, test_set_y_orig.shape[0]))\n",
    "    \n",
    "    return train_set_x_orig, train_set_y_orig, test_set_x_orig, test_set_y_orig, classes"
   ]
  },
  {
   "cell_type": "code",
   "execution_count": 5,
   "metadata": {},
   "outputs": [],
   "source": [
    "train_set_x_orig, train_set_y_orig, test_set_x_orig, test_set_y_orig, classes = load_data(data_dir)"
   ]
  },
  {
   "cell_type": "code",
   "execution_count": 6,
   "metadata": {},
   "outputs": [
    {
     "data": {
      "text/plain": [
       "(209, 64, 64, 3)"
      ]
     },
     "execution_count": 6,
     "metadata": {},
     "output_type": "execute_result"
    }
   ],
   "source": [
    "train_set_x_orig.shape"
   ]
  },
  {
   "cell_type": "code",
   "execution_count": 7,
   "metadata": {},
   "outputs": [
    {
     "data": {
      "text/plain": [
       "(1, 209)"
      ]
     },
     "execution_count": 7,
     "metadata": {},
     "output_type": "execute_result"
    }
   ],
   "source": [
    "train_set_y_orig.shape"
   ]
  },
  {
   "cell_type": "markdown",
   "metadata": {},
   "source": [
    "## 1.1 transfrom the image data 64_64_3 into a long column vector"
   ]
  },
  {
   "cell_type": "code",
   "execution_count": 8,
   "metadata": {},
   "outputs": [],
   "source": [
    "def image_to_vector(set_x):\n",
    "    \"\"\"\n",
    "    set_X has 4 dimensions, with the 1st being the number of examples.\n",
    "    The rest of 3 are 64 pixels * 64 pixels * 3 colors (RGB) dimensions.\n",
    "    \n",
    "    \"\"\"\n",
    "    \n",
    "    vector_x = set_x.reshape(set_x.shape[0], -1).T\n",
    "    \n",
    "    print(\"The shape now is (n_x, m) = \", vector_x.shape)\n",
    "    \n",
    "    return vector_x\n",
    "    \n",
    "    "
   ]
  },
  {
   "cell_type": "code",
   "execution_count": 9,
   "metadata": {},
   "outputs": [
    {
     "name": "stdout",
     "output_type": "stream",
     "text": [
      "The shape now is (n_x, m) =  (12288, 209)\n"
     ]
    }
   ],
   "source": [
    "train_set_x = image_to_vector(train_set_x_orig)\n",
    "\n",
    "# n_x is 12288 and we have 209 training examples"
   ]
  },
  {
   "cell_type": "code",
   "execution_count": 10,
   "metadata": {},
   "outputs": [
    {
     "name": "stdout",
     "output_type": "stream",
     "text": [
      "The shape now is (n_x, m) =  (12288, 50)\n"
     ]
    }
   ],
   "source": [
    "test_set_x = image_to_vector(test_set_x_orig)\n",
    "\n",
    "# n_x is 12288 and we have 50 training examples"
   ]
  },
  {
   "cell_type": "markdown",
   "metadata": {},
   "source": [
    "## 1.2  Pre-processing the data by normalizing it, use the same scaler applied on training data onto the test data"
   ]
  },
  {
   "cell_type": "code",
   "execution_count": 69,
   "metadata": {},
   "outputs": [],
   "source": [
    "# for each row in the data, it's a feature, and we standardize this dimension.\n",
    "\n",
    "# scaler = preprocessing.StandardScaler().fit(train_set_x.T)\n",
    "# scaler = preprocessing.MinMaxScaler().fit(train_set_x.T)\n",
    "\n",
    "# train_set_x2 = (scaler.transform(train_set_x.T)).T \n",
    "# test_set_x2 = (scaler.transform(test_set_x.T)).T   \n",
    "\n",
    "train_set_x2  = train_set_x / 255\n",
    "test_set_x2 = test_set_x / 255"
   ]
  },
  {
   "cell_type": "markdown",
   "metadata": {},
   "source": [
    "# 2. Build up the helper functions for the neural networks"
   ]
  },
  {
   "cell_type": "code",
   "execution_count": 15,
   "metadata": {},
   "outputs": [],
   "source": [
    "def sigmoid(Z):\n",
    "    \"\"\"\n",
    "    This function computes the sigmoid function for the input matrix.\n",
    "    Output: A[l] = sigmoid(Z[l])\n",
    "    \"\"\"\n",
    "    \n",
    "    return 1 / (1 + np.exp(-Z))"
   ]
  },
  {
   "cell_type": "code",
   "execution_count": 16,
   "metadata": {},
   "outputs": [],
   "source": [
    "def sigmoid_slope(Z):\n",
    "    \"\"\"\n",
    "    This function computes the inverse of the sigmoid function for the input matrix.\n",
    "    Output: sigma * (1 - sigma)\n",
    "    \"\"\"\n",
    "    \n",
    "    sigma = sigmoid(Z)\n",
    "    \n",
    "    return np.multiply(sigma, 1 - sigma)"
   ]
  },
  {
   "cell_type": "code",
   "execution_count": 135,
   "metadata": {},
   "outputs": [],
   "source": [
    "def relu(Z):\n",
    "    \"\"\"\n",
    "    This function computes the rectified linear unit function for the input matrix.\n",
    "    Output: A[l] = np.max(Z, 0)\n",
    "    \"\"\"\n",
    "    return np.maximum(Z, 0)"
   ]
  },
  {
   "cell_type": "code",
   "execution_count": 136,
   "metadata": {},
   "outputs": [],
   "source": [
    "def relu_slope(Z):\n",
    "    \"\"\"\n",
    "    This function computes the slope of the rectified linear unit function for the input matrix.\n",
    "    Output: as long as the input > 0, the slope is 1; otherwise the slope is 0.\n",
    "    \"\"\"\n",
    "    Z_2 = np.array(Z, copy=True) # just converting dz to a correct object.\n",
    "    Z_2[Z_2 >=0] = 1.0\n",
    "    Z_2[Z_2 < 0] = 0.0\n",
    "    \n",
    "    return Z_2"
   ]
  },
  {
   "cell_type": "code",
   "execution_count": 160,
   "metadata": {},
   "outputs": [],
   "source": [
    "def init_parameter(X, layers_nums):\n",
    "    \"\"\"\n",
    "    This function initializes the parameters for the W and b matrices. \n",
    "    We use random values following a normal distribution * 0.01 for W and use zeros for b.\n",
    "    \n",
    "    n[l]: number of nodes in layer l, l = 1, 2, 3, ..., L\n",
    "    shape for W[l] = (n[l], n[l-1])\n",
    "    shape for b[l] = (n[l], 1)\n",
    "    \n",
    "    layers_nums doesn't consider the X, it has L-1 hidder layers and 1 output layer.\n",
    "    \n",
    "    The output is a dictionary mapping from the parameter name to its values.\n",
    "    \"\"\"\n",
    "    \n",
    "    np.random.seed(1)\n",
    "    \n",
    "    parameter = {}\n",
    "    L = len(layers_nums)\n",
    "    \n",
    "    n_x = X.shape[0]  # the dimension of parameters for X\n",
    "    layers = [n_x] + list(layers_nums)\n",
    "\n",
    "    for l in range(1, L+1):\n",
    "        parameter[\"W\" + str(l)] = np.random.randn(layers[l], layers[l-1]) / np.sqrt(layers[l-1])  ## * 0.01 \n",
    "        parameter[\"b\" + str(l)] = np.zeros((layers[l],1))\n",
    "        \n",
    "    return parameter"
   ]
  },
  {
   "cell_type": "code",
   "execution_count": 138,
   "metadata": {},
   "outputs": [
    {
     "data": {
      "text/plain": [
       "[1, 2, 3, 4, 5]"
      ]
     },
     "execution_count": 138,
     "metadata": {},
     "output_type": "execute_result"
    }
   ],
   "source": [
    "[i for i in range(1, 5 + 1)]"
   ]
  },
  {
   "cell_type": "code",
   "execution_count": 20,
   "metadata": {},
   "outputs": [],
   "source": [
    "def forward_prop(X, parameter, layers_nums, activation = \"relu\"):\n",
    "    \"\"\"\n",
    "    This conducts the forward propagation from the X layer to the final output.\n",
    "    For the hidden layers, we prefer to use relu activations function and for the final output, we \n",
    "    prefer the sigmoid function to produce a probablity in [0,1].\n",
    "    Along the way, Z[l], A[l], W[l] are saved in caches for back_prop use.\n",
    "    \"\"\"\n",
    "    \n",
    "    L = len(layers_nums)\n",
    "    \n",
    "    # save some intermedite results for backprop use\n",
    "    caches = {}\n",
    "    \n",
    "    for l in range(1, L+1):\n",
    "        \n",
    "        if l == 1:\n",
    "            Z = np.dot(parameter['W'+ str(l)], X) + parameter['b' + str(l)]\n",
    "            if activation == \"sigmoid\":\n",
    "                A = sigmoid(Z)\n",
    "            if activation == \"relu\":\n",
    "                A = relu(Z)\n",
    "\n",
    "        elif l < L:\n",
    "            \n",
    "            Z = np.dot(parameter['W'+ str(l)], A) + parameter['b' + str(l)]\n",
    "            if activation == \"sigmoid\":\n",
    "                A = sigmoid(Z)\n",
    "            if activation == \"relu\":\n",
    "                A = relu(Z)\n",
    "            \n",
    "        else: # layer L: use sigmoid function\n",
    "            \n",
    "            Z = np.dot(parameter['W'+ str(l)], A) + parameter['b' + str(l)]\n",
    "            A = sigmoid(Z)\n",
    "\n",
    "        caches['Z'+str(l)] = Z\n",
    "        caches['A'+str(l)] = A\n",
    "\n",
    "    return caches['A'+str(L)], caches\n",
    "        "
   ]
  },
  {
   "cell_type": "code",
   "execution_count": 143,
   "metadata": {},
   "outputs": [],
   "source": [
    "layer = [7,4,1]\n",
    "parameter = init_parameter(train_set_x2, layer)"
   ]
  },
  {
   "cell_type": "code",
   "execution_count": 144,
   "metadata": {},
   "outputs": [],
   "source": [
    "AL, caches = forward_prop(train_set_x2, parameter, layer, activation = \"relu\")"
   ]
  },
  {
   "cell_type": "code",
   "execution_count": 149,
   "metadata": {},
   "outputs": [],
   "source": [
    "def compute_cost(Y, AL):\n",
    "    \"\"\"\n",
    "    Using the activations from the last layer, we calculate the loss function for the current iteration.\n",
    "    \"\"\"\n",
    "    m = Y.shape[1]\n",
    "    cost = (1./m) * (-np.dot(Y,np.log(AL).T) - np.dot(1-Y, np.log(1-AL).T))\n",
    "#     print(cost.shape)\n",
    "    cost = np.squeeze(cost)\n",
    "    \n",
    "    return cost"
   ]
  },
  {
   "cell_type": "code",
   "execution_count": 30,
   "metadata": {},
   "outputs": [],
   "source": [
    "def back_prop(X, Y, caches, parameter, layers_nums, activation = \"relu\"):\n",
    "    \"\"\"\n",
    "    This function conducts the backward propagation to calculate the gradients for the parameters in NN.\n",
    "    \n",
    "    \"\"\"\n",
    "    L = len(layers_nums)\n",
    "    m = Y.shape[1]\n",
    "    # save the gradients for the parameters.\n",
    "    grads = {}\n",
    "    \n",
    "    AL = caches['A'+str(L)]\n",
    "    \n",
    "    grads['dA'+str(L)]  = - (np.divide(Y, AL) - np.divide(1 - Y, 1 - AL))\n",
    "    \n",
    "    for l in range(L,0,-1):\n",
    "        \n",
    "        if l == L: # output layer uses sigmoid function\n",
    "\n",
    "            dZ_l = np.multiply(grads['dA'+str(l)], sigmoid_slope(caches['Z'+str(l)]))\n",
    "            dA_l_1 = np.dot(parameter['W'+str(l)].T, dZ_l)\n",
    "            \n",
    "            dW_l = 1/m * np.dot(dZ_l, caches['A'+str(l-1)].T)\n",
    "            db_l = 1/m * np.sum(dZ_l, axis = 1, keepdims= True)\n",
    "            \n",
    "        elif l > 1:\n",
    "            if activation == 'sigmoid':\n",
    "                dZ_l = np.multiply(grads['dA'+str(l)], sigmoid_slope(caches['Z'+str(l)]))\n",
    "            if activation == 'relu':\n",
    "                dZ_l = np.multiply(grads['dA'+str(l)], relu_slope(caches['Z'+str(l)]))\n",
    "\n",
    "                \n",
    "            dA_l_1 = np.dot(parameter['W'+str(l)].T, dZ_l)\n",
    "            \n",
    "            dW_l = 1/m * np.dot(dZ_l, caches['A'+str(l-1)].T)\n",
    "            db_l = 1/m * np.sum(dZ_l, axis = 1, keepdims= True)\n",
    "            \n",
    "        else: # l == 1\n",
    "            if activation == 'sigmoid':\n",
    "                dZ_l = np.multiply(grads['dA'+str(l)], sigmoid_slope(caches['Z'+str(l)]))\n",
    "            if activation == 'relu':\n",
    "                dZ_l = np.multiply(grads['dA'+str(l)], relu_slope(caches['Z'+str(l)]))\n",
    "\n",
    "                \n",
    "            dA_l_1 = np.dot(parameter['W'+str(l)].T, dZ_l)\n",
    "            \n",
    "            dW_l = 1/m * np.dot(dZ_l, X.T)\n",
    "            db_l = 1/m * np.sum(dZ_l, axis = 1, keepdims= True)\n",
    "            \n",
    "        grads['dA'+str(l-1)] = dA_l_1\n",
    "        grads['dW'+str(l)] = dW_l\n",
    "        grads['db'+str(l)] = db_l\n",
    "    \n",
    "    \n",
    "    return grads"
   ]
  },
  {
   "cell_type": "code",
   "execution_count": 31,
   "metadata": {},
   "outputs": [],
   "source": [
    "grads = back_prop(train_set_x2, train_set_y_orig, caches, parameter, layer, activation = \"relu\")"
   ]
  },
  {
   "cell_type": "code",
   "execution_count": 32,
   "metadata": {},
   "outputs": [],
   "source": [
    "def update_parameter(parameter, grads, learning_rate = 0.05):\n",
    "    \"\"\"\n",
    "    Using the gradient descent to update the parameters.\n",
    "    \"\"\"\n",
    "    \n",
    "    for par in parameter.keys():\n",
    "        parameter[par] = parameter[par] - learning_rate * grads[\"d\" + par]\n",
    "        \n",
    "    return parameter"
   ]
  },
  {
   "cell_type": "code",
   "execution_count": 33,
   "metadata": {},
   "outputs": [],
   "source": [
    "new_param = update_parameter(parameter, grads, learning_rate = 0.001)"
   ]
  },
  {
   "cell_type": "code",
   "execution_count": 154,
   "metadata": {},
   "outputs": [],
   "source": [
    "def neural_nets(X, Y, layers, max_iter = 5000, activation = \"relu\", learning_rate = 0.05, print_error = True):\n",
    "    \"\"\"\n",
    "    This function builds a deep neural network with several steps:\n",
    "    1. initialize the parameters\n",
    "    2. forward propagate the X through the structures\n",
    "    3. compute the loss function\n",
    "    4. backward propagate the cost to calculate the gradients\n",
    "    5. update the parameters using gradient descent; go back to step 2.\n",
    "    \n",
    "    \"\"\"\n",
    "    \n",
    "    cost = []\n",
    "    \n",
    "    L = len(layers)\n",
    "    \n",
    "#     1. initialize the parameters\n",
    "    parameter = init_parameter(X, layers)\n",
    "    \n",
    "    for i in range(1, max_iter+1):\n",
    "        \n",
    "#       2. forward propagate the X through the structures\n",
    "        AL, caches = forward_prop(X, parameter, layers, activation)\n",
    "    \n",
    "#         print(\"shape of Y\", Y.shape)\n",
    "#         print('shape of AL', caches['A'+str(L)].shape)\n",
    "    \n",
    "#   3. compute the loss function\n",
    "        temp_cost = compute_cost(Y, AL)\n",
    "\n",
    "#     4. backward propagate the cost to calculate the gradients\n",
    "        grads = back_prop(X, Y, caches, parameter, layers, activation)\n",
    "    \n",
    "    \n",
    "#     5. update the parameters using gradient descent; go back to step 2.\n",
    "        parameter = update_parameter(parameter, grads, learning_rate)\n",
    "    \n",
    "    \n",
    "        # print cost function\n",
    "        if print_error == True and i % 100 == 0:\n",
    "            print(\"Round {}, cost function = {}\".format(i, temp_cost))\n",
    "            cost.append(temp_cost)\n",
    "                \n",
    "    # plot the cost\n",
    "\n",
    "    plt.plot(np.squeeze(cost))\n",
    "    plt.ylabel('cost')\n",
    "    plt.xlabel('iterations (per hundreds)')\n",
    "    plt.title(\"Learning rate =\" + str(learning_rate))\n",
    "    plt.show()\n",
    "\n",
    "    \n",
    "    return parameter, cost"
   ]
  },
  {
   "cell_type": "code",
   "execution_count": 199,
   "metadata": {},
   "outputs": [],
   "source": [
    "def predict(X, y, parameter, layers, activation = 'relu'):\n",
    "    \"\"\"\n",
    "    This function is used to predict the results of a  L-layer neural network.\n",
    "    \n",
    "    Arguments:\n",
    "    X -- data set of examples you would like to label\n",
    "    parameters -- parameters of the trained model\n",
    "    \n",
    "    Returns:\n",
    "    p -- predictions for the given dataset X\n",
    "    \"\"\"\n",
    "    \n",
    "    m = X.shape[1]\n",
    "    n = len(layers) # number of layers in the neural network\n",
    "    p = np.zeros((1,m))\n",
    "    \n",
    "    # Forward propagation\n",
    "    probas, caches = forward_prop(X, parameter, layers, activation)\n",
    "\n",
    "    \n",
    "    # convert probas to 0/1 predictions\n",
    "    for i in range(0, probas.shape[1]):\n",
    "        if probas[0,i] > 0.5:\n",
    "            p[0,i] = 1\n",
    "        else:\n",
    "            p[0,i] = 0\n",
    "    \n",
    "    #print results\n",
    "    #print (\"predictions: \" + str(p))\n",
    "    #print (\"true labels: \" + str(y))\n",
    "    print(\"Accuracy: \"  + str(np.sum((p == y)/m)))\n",
    "        \n",
    "    return p"
   ]
  },
  {
   "cell_type": "markdown",
   "metadata": {},
   "source": [
    "# 3. Build the DNN model with data"
   ]
  },
  {
   "cell_type": "code",
   "execution_count": 203,
   "metadata": {},
   "outputs": [
    {
     "name": "stdout",
     "output_type": "stream",
     "text": [
      "Round 100, cost function = 0.6730669087707257\n",
      "Round 200, cost function = 0.6599897603445041\n",
      "Round 300, cost function = 0.6508475169990517\n",
      "Round 400, cost function = 0.6421751895364037\n",
      "Round 500, cost function = 0.6297722175558085\n",
      "Round 600, cost function = 0.6037825154775028\n",
      "Round 700, cost function = 0.5507967572480309\n",
      "Round 800, cost function = 0.47080737525730043\n",
      "Round 900, cost function = 0.3967926375116874\n",
      "Round 1000, cost function = 0.3491790636035602\n",
      "Round 1100, cost function = 0.34054994323010235\n",
      "Round 1200, cost function = 0.2561072208124426\n",
      "Round 1300, cost function = 0.22224474208492456\n",
      "Round 1400, cost function = 0.18929006541750487\n",
      "Round 1500, cost function = 0.16430041799919626\n",
      "Round 1600, cost function = 0.1467225449145274\n",
      "Round 1700, cost function = 0.13562982922449304\n",
      "Round 1800, cost function = 0.12619968987161462\n",
      "Round 1900, cost function = 0.119069220075659\n",
      "Round 2000, cost function = 0.11201332074878421\n",
      "Round 2100, cost function = 0.10632855280017184\n",
      "Round 2200, cost function = 0.10134832418876939\n",
      "Round 2300, cost function = 0.09742499838996015\n",
      "Round 2400, cost function = 0.09352251739716107\n",
      "Round 2500, cost function = 0.0900996071929103\n",
      "Round 2600, cost function = 0.08725409970105959\n",
      "Round 2700, cost function = 0.08465322769778594\n",
      "Round 2800, cost function = 0.08227380419010327\n",
      "Round 2900, cost function = 0.08009937697787611\n",
      "Round 3000, cost function = 0.07824507299877259\n",
      "Round 3100, cost function = 0.07648218531108456\n",
      "Round 3200, cost function = 0.07489668627980124\n",
      "Round 3300, cost function = 0.07341723795607936\n",
      "Round 3400, cost function = 0.07227349324782398\n",
      "Round 3500, cost function = 0.07088446013197068\n",
      "Round 3600, cost function = 0.06977633477710551\n",
      "Round 3700, cost function = 0.068994447313864\n",
      "Round 3800, cost function = 0.06778673968974892\n",
      "Round 3900, cost function = 0.06725389490224126\n",
      "Round 4000, cost function = 0.06604467750907482\n"
     ]
    },
    {
     "data": {
      "image/png": "[encoded data removed]",
      "text/plain": [
       "<Figure size 432x288 with 1 Axes>"
      ]
     },
     "metadata": {
      "needs_background": "light"
     },
     "output_type": "display_data"
    },
    {
     "name": "stdout",
     "output_type": "stream",
     "text": [
      "Accuracy: 0.9904306220095692\n",
      "Accuracy: 0.8200000000000001\n"
     ]
    }
   ],
   "source": [
    "layers = [20, 7, 5, 3, 1]\n",
    "\n",
    "parameter, cost = neural_nets(train_set_x2, train_set_y_orig, layers, max_iter = 4000, \n",
    "                                activation = \"relu\", learning_rate = 0.01)\n",
    "\n",
    "predictions_train = predict(train_set_x2, train_set_y_orig,  parameter, layers, activation = \"relu\")\n",
    "\n",
    "predictions_test = predict(test_set_x2, test_set_y_orig,  parameter, layers, activation = \"relu\")"
   ]
  },
  {
   "cell_type": "code",
   "execution_count": null,
   "metadata": {},
   "outputs": [],
   "source": []
  }
 ],
 "metadata": {
  "kernelspec": {
   "display_name": "Python 3",
   "language": "python",
   "name": "python3"
  },
  "language_info": {
   "codemirror_mode": {
    "name": "ipython",
    "version": 3
   },
   "file_extension": ".py",
   "mimetype": "text/x-python",
   "name": "python",
   "nbconvert_exporter": "python",
   "pygments_lexer": "ipython3",
   "version": "3.7.1"
  }
 },
 "nbformat": 4,
 "nbformat_minor": 2
}
